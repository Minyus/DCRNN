{
  "nbformat": 4,
  "nbformat_minor": 0,
  "metadata": {
    "colab": {
      "name": "dcrnn_in_google_colab.ipynb",
      "version": "0.3.2",
      "provenance": [],
      "collapsed_sections": []
    },
    "kernelspec": {
      "name": "python3",
      "display_name": "Python 3"
    },
    "accelerator": "GPU"
  },
  "cells": [
    {
      "cell_type": "code",
      "metadata": {
        "id": "Nv6MlFF_ZkfT",
        "colab_type": "code",
        "colab": {}
      },
      "source": [
        "\"\"\" \n",
        "Run this code to access Google Drive from Google Colab.\n",
        "You will need to authorize manually.\n",
        "\"\"\"\n",
        "\n",
        "import os\n",
        "import sys\n",
        "\n",
        "try:\n",
        "    from google.colab import drive\n",
        "    drive.mount('/content/drive')\n",
        "    workdir = '/content/drive/My Drive/Colab/Grab_AI_for_SEA/'\n",
        "    os.makedirs(workdir, exist_ok=True)\n",
        "    os.chdir(workdir)\n",
        "    print('## Current working directory: ', os.getcwd())\n",
        "    print('\\n## Python version: ', sys.version)\n",
        "except:\n",
        "    print('Not running in Google Colab.')"
      ],
      "execution_count": 0,
      "outputs": []
    },
    {
      "cell_type": "code",
      "metadata": {
        "id": "L6zHairB6fsv",
        "colab_type": "code",
        "colab": {}
      },
      "source": [
        "print('## Check the uptime. (Google Colab reboots every 12 hours.)')\n",
        "!cat /proc/uptime | awk '{print \"Uptime is \" $1 /60 /60 \" hours (\" $1 \" sec)\"}'\n",
        "print('## Check the GPU info')\n",
        "!nvidia-smi\n",
        "print('## Check the OS') \n",
        "!cat /etc/issue\n",
        "print('## Check the memory')\n",
        "!free -h\n",
        "print('## Check the disk')\n",
        "!df -h"
      ],
      "execution_count": 0,
      "outputs": []
    },
    {
      "cell_type": "code",
      "metadata": {
        "id": "oOYZRAzZgiQd",
        "colab_type": "code",
        "colab": {}
      },
      "source": [
        "!pip install python-geohash"
      ],
      "execution_count": 0,
      "outputs": []
    },
    {
      "cell_type": "code",
      "metadata": {
        "id": "S9GJJ5Rlg1vj",
        "colab_type": "code",
        "colab": {}
      },
      "source": [
        "!pip install -U pyyaml"
      ],
      "execution_count": 0,
      "outputs": []
    },
    {
      "cell_type": "code",
      "metadata": {
        "id": "GMXQeydufk0U",
        "colab_type": "code",
        "colab": {}
      },
      "source": [
        "!python dcrnn_main.py"
      ],
      "execution_count": 0,
      "outputs": []
    },
    {
      "cell_type": "code",
      "metadata": {
        "id": "6XJ55__agVok",
        "colab_type": "code",
        "colab": {}
      },
      "source": [
        "# %debug"
      ],
      "execution_count": 0,
      "outputs": []
    },
    {
      "cell_type": "code",
      "metadata": {
        "id": "-nzGzcJl0HWR",
        "colab_type": "code",
        "colab": {}
      },
      "source": [
        ""
      ],
      "execution_count": 0,
      "outputs": []
    }
  ]
}